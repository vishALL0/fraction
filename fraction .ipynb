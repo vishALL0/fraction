{
 "cells": [
  {
   "cell_type": "code",
   "execution_count": 55,
   "id": "cc65339f",
   "metadata": {},
   "outputs": [],
   "source": [
    "class Fraction:\n",
    "    def __init__(self,n,d):\n",
    "        self.num=n\n",
    "        self.den=d\n",
    "        \n",
    "    def __str__(self):\n",
    "        return \"{}/{}\".format(self.num,self.den)\n",
    "    def __add__(self,other):\n",
    "        tem_num=(self.num*other.den)+(self.den*other.num)\n",
    "        tem_den=self.den*other.den\n",
    "        return \"{}/{}\".format(tem_num,tem_den)\n",
    "    def __sub__(self,other):\n",
    "        tem_num=(self.num*other.den)-(self.den*other.num)\n",
    "        tem_den=self.den*other.den\n",
    "        return \"{}/{}\".format(tem_num,tem_den)\n",
    "    def __mul__(self,other):\n",
    "        tem_num=self.num*other.num\n",
    "        tem_den=self.den*other.den\n",
    "        return \"{}/{}\".format(tem_num,tem_den)\n",
    "    def __floordiv__(self,other):\n",
    "        tem_num=self.num*other.den\n",
    "        tem_den=self.den*other.num\n",
    "        return \"{}/{}\".format(tem_num,tem_den)\n",
    "    def __truediv__(self,other):\n",
    "        tem_num=self.num*other.den\n",
    "        tem_den=self.den*other.num\n",
    "        return \"{}/{}\".format(tem_num,tem_den)"
   ]
  },
  {
   "cell_type": "code",
   "execution_count": 56,
   "id": "3c88311d",
   "metadata": {},
   "outputs": [],
   "source": [
    "x=Fraction(4,5)\n"
   ]
  },
  {
   "cell_type": "code",
   "execution_count": 57,
   "id": "d1d979a2",
   "metadata": {},
   "outputs": [
    {
     "name": "stdout",
     "output_type": "stream",
     "text": [
      "4/5\n"
     ]
    }
   ],
   "source": [
    "print(x)"
   ]
  },
  {
   "cell_type": "code",
   "execution_count": 46,
   "id": "99f454f5",
   "metadata": {},
   "outputs": [],
   "source": [
    "y=Fraction(6,7)"
   ]
  },
  {
   "cell_type": "code",
   "execution_count": 47,
   "id": "2f8b3d76",
   "metadata": {},
   "outputs": [
    {
     "name": "stdout",
     "output_type": "stream",
     "text": [
      "6/7\n"
     ]
    }
   ],
   "source": [
    "print(y)"
   ]
  },
  {
   "cell_type": "code",
   "execution_count": 48,
   "id": "4f11a1e3",
   "metadata": {},
   "outputs": [
    {
     "name": "stdout",
     "output_type": "stream",
     "text": [
      "58/35\n"
     ]
    }
   ],
   "source": [
    "print(x+y)"
   ]
  },
  {
   "cell_type": "code",
   "execution_count": 49,
   "id": "0106c034",
   "metadata": {},
   "outputs": [
    {
     "name": "stdout",
     "output_type": "stream",
     "text": [
      "-2/35\n"
     ]
    }
   ],
   "source": [
    "print(x-y)"
   ]
  },
  {
   "cell_type": "code",
   "execution_count": 50,
   "id": "adc2a314",
   "metadata": {},
   "outputs": [
    {
     "name": "stdout",
     "output_type": "stream",
     "text": [
      "24/35\n"
     ]
    }
   ],
   "source": [
    "print(x*y)"
   ]
  },
  {
   "cell_type": "code",
   "execution_count": 52,
   "id": "b43bd4d8",
   "metadata": {},
   "outputs": [
    {
     "name": "stdout",
     "output_type": "stream",
     "text": [
      "28/30\n"
     ]
    }
   ],
   "source": [
    "print(x//y)"
   ]
  },
  {
   "cell_type": "code",
   "execution_count": 58,
   "id": "58f83251",
   "metadata": {},
   "outputs": [
    {
     "name": "stdout",
     "output_type": "stream",
     "text": [
      "28/30\n"
     ]
    }
   ],
   "source": [
    "print(x/y)"
   ]
  },
  {
   "cell_type": "code",
   "execution_count": null,
   "id": "c4a2e6d4",
   "metadata": {},
   "outputs": [],
   "source": []
  }
 ],
 "metadata": {
  "kernelspec": {
   "display_name": "Python 3 (ipykernel)",
   "language": "python",
   "name": "python3"
  },
  "language_info": {
   "codemirror_mode": {
    "name": "ipython",
    "version": 3
   },
   "file_extension": ".py",
   "mimetype": "text/x-python",
   "name": "python",
   "nbconvert_exporter": "python",
   "pygments_lexer": "ipython3",
   "version": "3.9.7"
  }
 },
 "nbformat": 4,
 "nbformat_minor": 5
}
